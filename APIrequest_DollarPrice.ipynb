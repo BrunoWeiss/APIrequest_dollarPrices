{
 "cells": [
  {
   "cell_type": "markdown",
   "id": "1d464f84",
   "metadata": {},
   "source": [
    "# Simple script to use an API to get dollar, euro and bitcoin prices (in Brazillian Real)"
   ]
  },
  {
   "cell_type": "code",
   "execution_count": 23,
   "id": "a8c45093",
   "metadata": {},
   "outputs": [
    {
     "name": "stdout",
     "output_type": "stream",
     "text": [
      "USD-R$ 5.1525 (2022-06-17 17:59:53)\n",
      "EUR-R$ 5.4065 (2022-06-17 17:59:53)\n",
      "BTC-R$ 106.78 (2022-06-17 21:14:04)\n"
     ]
    }
   ],
   "source": [
    "import requests\n",
    "import json\n",
    "\n",
    "prices = requests.get('https://economia.awesomeapi.com.br/last/USD-BRL,EUR-BRL,BTC-BRL')\n",
    "prices = prices.json()\n",
    "\n",
    "# Parsing the data, just to make it pretty:\n",
    "\n",
    "dollar = prices['USDBRL']['bid']\n",
    "dollarDate = prices['USDBRL']['create_date']\n",
    "dollarCode = prices['USDBRL']['code']\n",
    "\n",
    "Euro = prices['EURBRL']['bid']\n",
    "EuroDate = prices['EURBRL']['create_date']\n",
    "EuroCode = prices['EURBRL']['code']\n",
    "\n",
    "Bitcoin = prices['BTCBRL']['bid']\n",
    "BitcoinDate = prices['BTCBRL']['create_date']\n",
    "BitcoinCode = prices['BTCBRL']['code']\n",
    "\n",
    "\n",
    "# Printing (just for clarification)\n",
    "\n",
    "print(dollarCode + '-' + 'R$ ' + dollar + ' (' + dollarDate +')')\n",
    "print(EuroCode + '-' + 'R$ ' + Euro + ' (' + EuroDate +')')\n",
    "print(BitcoinCode + '-' + 'R$ ' + Bitcoin + ' (' + BitcoinDate +')')\n",
    "#print(prices)"
   ]
  },
  {
   "cell_type": "code",
   "execution_count": null,
   "id": "e48044c1",
   "metadata": {},
   "outputs": [],
   "source": []
  },
  {
   "cell_type": "code",
   "execution_count": null,
   "id": "8e673f94",
   "metadata": {},
   "outputs": [],
   "source": []
  },
  {
   "cell_type": "code",
   "execution_count": null,
   "id": "eb96c191",
   "metadata": {},
   "outputs": [],
   "source": []
  },
  {
   "cell_type": "code",
   "execution_count": null,
   "id": "8be2a250",
   "metadata": {},
   "outputs": [],
   "source": []
  },
  {
   "cell_type": "code",
   "execution_count": null,
   "id": "e2dd2161",
   "metadata": {},
   "outputs": [],
   "source": []
  },
  {
   "cell_type": "code",
   "execution_count": null,
   "id": "61394076",
   "metadata": {},
   "outputs": [],
   "source": []
  }
 ],
 "metadata": {
  "kernelspec": {
   "display_name": "Python 3 (ipykernel)",
   "language": "python",
   "name": "python3"
  },
  "language_info": {
   "codemirror_mode": {
    "name": "ipython",
    "version": 3
   },
   "file_extension": ".py",
   "mimetype": "text/x-python",
   "name": "python",
   "nbconvert_exporter": "python",
   "pygments_lexer": "ipython3",
   "version": "3.9.5"
  }
 },
 "nbformat": 4,
 "nbformat_minor": 5
}
